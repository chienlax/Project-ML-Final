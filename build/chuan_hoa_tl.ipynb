{
 "cells": [
  {
   "cell_type": "code",
   "execution_count": 1,
   "metadata": {},
   "outputs": [],
   "source": [
    "import pandas as pd\n",
    "import numpy as np\n",
    "pd.set_option('display.max_columns', 100)\n",
    "pd.set_option('display.max_rows', 100)"
   ]
  },
  {
   "cell_type": "code",
   "execution_count": 3,
   "metadata": {},
   "outputs": [],
   "source": [
    "hn = pd.read_excel('..\\\\input\\\\2024_10\\\\DS Thi Lai HN-HCM.xlsx', sheet_name='DS Thi Hà Nội')"
   ]
  },
  {
   "cell_type": "code",
   "execution_count": 5,
   "metadata": {},
   "outputs": [],
   "source": [
    "hn.columns = ['Địa điểm','Mã SV','Họ Lót','Tên','Mã HP','Mã LHP','Tên HP','Số TC','Thời gian thi','DKT']"
   ]
  },
  {
   "cell_type": "code",
   "execution_count": 6,
   "metadata": {},
   "outputs": [
    {
     "data": {
      "text/html": [
       "<div>\n",
       "<style scoped>\n",
       "    .dataframe tbody tr th:only-of-type {\n",
       "        vertical-align: middle;\n",
       "    }\n",
       "\n",
       "    .dataframe tbody tr th {\n",
       "        vertical-align: top;\n",
       "    }\n",
       "\n",
       "    .dataframe thead th {\n",
       "        text-align: right;\n",
       "    }\n",
       "</style>\n",
       "<table border=\"1\" class=\"dataframe\">\n",
       "  <thead>\n",
       "    <tr style=\"text-align: right;\">\n",
       "      <th></th>\n",
       "      <th>Địa điểm</th>\n",
       "      <th>Mã SV</th>\n",
       "      <th>Họ Lót</th>\n",
       "      <th>Tên</th>\n",
       "      <th>Mã HP</th>\n",
       "      <th>Mã LHP</th>\n",
       "      <th>Tên HP</th>\n",
       "      <th>Số TC</th>\n",
       "      <th>Thời gian thi</th>\n",
       "      <th>DKT</th>\n",
       "    </tr>\n",
       "  </thead>\n",
       "  <tbody>\n",
       "    <tr>\n",
       "      <th>0</th>\n",
       "      <td>Hà Nội</td>\n",
       "      <td>19185143</td>\n",
       "      <td>Lê Thái</td>\n",
       "      <td>Anh</td>\n",
       "      <td>TXBHKT03</td>\n",
       "      <td>19185143TXBHKT03</td>\n",
       "      <td>Bảo hiểm thương mại 1</td>\n",
       "      <td>3</td>\n",
       "      <td>90</td>\n",
       "      <td>Đăng Ký Thi Lại</td>\n",
       "    </tr>\n",
       "    <tr>\n",
       "      <th>1</th>\n",
       "      <td>Hà Nội</td>\n",
       "      <td>19185143</td>\n",
       "      <td>Lê Thái</td>\n",
       "      <td>Anh</td>\n",
       "      <td>TXBHKT03</td>\n",
       "      <td>19185143TXBHKT03</td>\n",
       "      <td>Bảo hiểm thương mại 1</td>\n",
       "      <td>3</td>\n",
       "      <td>90</td>\n",
       "      <td>Đăng Ký Thi Lại</td>\n",
       "    </tr>\n",
       "    <tr>\n",
       "      <th>2</th>\n",
       "      <td>Hà Nội</td>\n",
       "      <td>19230183</td>\n",
       "      <td>Trình Xuân</td>\n",
       "      <td>Hồng</td>\n",
       "      <td>TXLUKD07</td>\n",
       "      <td>19230183TXLUKD07</td>\n",
       "      <td>Công pháp quốc tế</td>\n",
       "      <td>3</td>\n",
       "      <td>90</td>\n",
       "      <td>Đăng Ký Thi Lại</td>\n",
       "    </tr>\n",
       "    <tr>\n",
       "      <th>3</th>\n",
       "      <td>Hà Nội</td>\n",
       "      <td>19201815</td>\n",
       "      <td>Nguyễn Hoàng</td>\n",
       "      <td>Việt</td>\n",
       "      <td>TXLUKD07</td>\n",
       "      <td>19201815TXLUKD07</td>\n",
       "      <td>Công pháp quốc tế</td>\n",
       "      <td>3</td>\n",
       "      <td>90</td>\n",
       "      <td>Đăng Ký Thi Lại</td>\n",
       "    </tr>\n",
       "    <tr>\n",
       "      <th>4</th>\n",
       "      <td>Hà Nội</td>\n",
       "      <td>19201122</td>\n",
       "      <td>Phạm Tiến</td>\n",
       "      <td>Vinh</td>\n",
       "      <td>TXLUKD07</td>\n",
       "      <td>19201122TXLUKD07</td>\n",
       "      <td>Công pháp quốc tế</td>\n",
       "      <td>3</td>\n",
       "      <td>90</td>\n",
       "      <td>Đăng Ký Thi Lại</td>\n",
       "    </tr>\n",
       "  </tbody>\n",
       "</table>\n",
       "</div>"
      ],
      "text/plain": [
       "  Địa điểm     Mã SV         Họ Lót   Tên     Mã HP            Mã LHP  \\\n",
       "0   Hà Nội  19185143       Lê Thái    Anh  TXBHKT03  19185143TXBHKT03   \n",
       "1   Hà Nội  19185143       Lê Thái    Anh  TXBHKT03  19185143TXBHKT03   \n",
       "2   Hà Nội  19230183    Trình Xuân   Hồng  TXLUKD07  19230183TXLUKD07   \n",
       "3   Hà Nội  19201815  Nguyễn Hoàng   Việt  TXLUKD07  19201815TXLUKD07   \n",
       "4   Hà Nội  19201122     Phạm Tiến   Vinh  TXLUKD07  19201122TXLUKD07   \n",
       "\n",
       "                  Tên HP  Số TC  Thời gian thi              DKT  \n",
       "0  Bảo hiểm thương mại 1      3             90  Đăng Ký Thi Lại  \n",
       "1  Bảo hiểm thương mại 1      3             90  Đăng Ký Thi Lại  \n",
       "2      Công pháp quốc tế      3             90  Đăng Ký Thi Lại  \n",
       "3      Công pháp quốc tế      3             90  Đăng Ký Thi Lại  \n",
       "4      Công pháp quốc tế      3             90  Đăng Ký Thi Lại  "
      ]
     },
     "execution_count": 6,
     "metadata": {},
     "output_type": "execute_result"
    }
   ],
   "source": [
    "hn.head()"
   ]
  },
  {
   "cell_type": "code",
   "execution_count": 8,
   "metadata": {},
   "outputs": [],
   "source": [
    "hn.to_csv('..\\\\input\\\\2024_10\\\\2024_10_HN.csv', index=False, encoding='utf-8-sig')"
   ]
  },
  {
   "cell_type": "code",
   "execution_count": 9,
   "metadata": {},
   "outputs": [],
   "source": [
    "hcm = pd.read_excel('..\\\\input\\\\2024_10\\\\DS Thi Lai HN-HCM.xlsx', sheet_name='DS Thi Hồ Chí Minh')"
   ]
  },
  {
   "cell_type": "code",
   "execution_count": 10,
   "metadata": {},
   "outputs": [],
   "source": [
    "hcm.columns = ['Địa điểm','Mã SV','Họ Lót','Tên','Mã HP','Mã LHP','Tên HP','Số TC','Thời gian thi','DKT']"
   ]
  },
  {
   "cell_type": "code",
   "execution_count": 11,
   "metadata": {},
   "outputs": [],
   "source": [
    "hcm.to_csv('..\\\\input\\\\2024_10\\\\2024_10_HCM.csv', index=False, encoding='utf-8-sig')"
   ]
  }
 ],
 "metadata": {
  "kernelspec": {
   "display_name": "Python 3",
   "language": "python",
   "name": "python3"
  },
  "language_info": {
   "codemirror_mode": {
    "name": "ipython",
    "version": 3
   },
   "file_extension": ".py",
   "mimetype": "text/x-python",
   "name": "python",
   "nbconvert_exporter": "python",
   "pygments_lexer": "ipython3",
   "version": "3.12.6"
  }
 },
 "nbformat": 4,
 "nbformat_minor": 2
}
