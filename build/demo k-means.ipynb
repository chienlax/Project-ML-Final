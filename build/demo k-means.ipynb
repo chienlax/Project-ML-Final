{
 "cells": [
  {
   "cell_type": "code",
   "execution_count": 1,
   "metadata": {},
   "outputs": [
    {
     "name": "stdout",
     "output_type": "stream",
     "text": [
      "Mã HP\n",
      "HP2     69\n",
      "HP1     67\n",
      "HP18    64\n",
      "HP17    63\n",
      "HP8     59\n",
      "HP6     57\n",
      "HP5     57\n",
      "HP16    56\n",
      "HP11    55\n",
      "HP12    53\n",
      "HP4     51\n",
      "HP15    49\n",
      "HP19    47\n",
      "HP13    46\n",
      "HP3     45\n",
      "HP14    44\n",
      "HP7     43\n",
      "HP9     40\n",
      "HP10    35\n",
      "Name: count, dtype: int64\n"
     ]
    }
   ],
   "source": [
    "import pandas as pd\n",
    "import numpy as np\n",
    "\n",
    "# Sample data: 20 students (Mã SV) across 10 subjects (Mã HP)\n",
    "np.random.seed(0)  # for reproducibility\n",
    "\n",
    "data = pd.DataFrame({\n",
    "    \"Mã SV\": np.random.choice([f\"SV{i}\" for i in range(1, 1000)], 1000),\n",
    "    \"Mã HP\": np.random.choice([f\"HP{j}\" for j in range(1, 20)], 1000),\n",
    "    \"Time slot\": np.random.choice([1, 2, 3, 4], 1000)\n",
    "})\n",
    "\n",
    "# Ensuring some subjects have a high number of students\n",
    "data.loc[:20, \"Mã HP\"] = \"HP1\"  # Force HP1 to have a high count\n",
    "data.loc[20:40, \"Mã HP\"] = \"HP2\"  # Force HP2 to have a high count\n",
    "\n",
    "# Check data distribution\n",
    "print(data[\"Mã HP\"].value_counts())\n"
   ]
  },
  {
   "cell_type": "code",
   "execution_count": 2,
   "metadata": {},
   "outputs": [
    {
     "name": "stdout",
     "output_type": "stream",
     "text": [
      "Subjects to split: ['HP1', 'HP11', 'HP12', 'HP16', 'HP17', 'HP18', 'HP2', 'HP4', 'HP5', 'HP6', 'HP8']\n"
     ]
    }
   ],
   "source": [
    "# Define minimum students per cluster\n",
    "min_hp_sv = 25  # Minimum students threshold for demonstration\n",
    "\n",
    "# Group by \"Mã HP\" and aggregate to find total students per subject\n",
    "hp = data.groupby(\"Mã HP\").agg({\"Mã SV\": \"count\", \"Time slot\": \"first\"})\n",
    "hp = hp.rename(columns={\"Mã SV\": \"sv\"})\n",
    "\n",
    "# Subjects with student count >= 2 * min_hp_sv\n",
    "split_set = hp[hp[\"sv\"] >= min_hp_sv * 2].index.tolist()\n",
    "print(\"Subjects to split:\", split_set)"
   ]
  },
  {
   "cell_type": "code",
   "execution_count": 3,
   "metadata": {},
   "outputs": [
    {
     "name": "stdout",
     "output_type": "stream",
     "text": [
      "Splitting HP1 (67 students) into 2 clusters\n",
      "Splitting HP11 (55 students) into 2 clusters\n",
      "Splitting HP12 (53 students) into 2 clusters\n",
      "Splitting HP16 (56 students) into 2 clusters\n",
      "Splitting HP17 (63 students) into 2 clusters\n",
      "Splitting HP18 (64 students) into 2 clusters\n",
      "Splitting HP2 (69 students) into 2 clusters\n",
      "Splitting HP4 (51 students) into 2 clusters\n",
      "Splitting HP5 (57 students) into 2 clusters\n",
      "Splitting HP6 (57 students) into 2 clusters\n",
      "Splitting HP8 (59 students) into 2 clusters\n"
     ]
    }
   ],
   "source": [
    "from sklearn.preprocessing import StandardScaler\n",
    "from k_means_constrained import KMeansConstrained\n",
    "from sklearn.metrics import silhouette_score\n",
    "\n",
    "# Pivot data to create a \"co-occurrence\" matrix of students with each subject\n",
    "cm = pd.crosstab(data[\"Mã SV\"], data[\"Mã HP\"])\n",
    "\n",
    "for i in split_set:\n",
    "    if hp.loc[i, \"sv\"] >= min_hp_sv * 2:\n",
    "        # Select students taking the subject `i` and drop subject column `i` itself from X\n",
    "        X = cm.loc[cm[i] == 1].drop(i, axis=1)\n",
    "        \n",
    "        # Remove columns with all 0s or all 1s (students who only take subject `i`)\n",
    "        X = X.loc[:, (X.max(axis=0) > 0)]\n",
    "        X = X.loc[:, (X.min(axis=0) < 1)]\n",
    "        \n",
    "        if X.shape[1] == 0:\n",
    "            continue\n",
    "        \n",
    "        # Initialize best parameters for clustering\n",
    "        best_y = None\n",
    "        best_nc = 0\n",
    "        best_score = -1\n",
    "        \n",
    "        # K-means constrained clustering\n",
    "        for nc in range(2, min((hp.loc[i, \"sv\"] // min_hp_sv) + 1, 11)):\n",
    "            \n",
    "            kmeans = KMeansConstrained(\n",
    "                            n_clusters=nc, size_min=min_hp_sv, n_jobs=-1\n",
    "                        )\n",
    "            yy = kmeans.fit_predict(StandardScaler().fit_transform(X))\n",
    "            \n",
    "            score = silhouette_score(X, yy)\n",
    "            \n",
    "            # Select the best clustering result based on silhouette score\n",
    "            if score > best_score:\n",
    "                best_nc = nc\n",
    "                best_score = score\n",
    "                best_y = yy\n",
    "        \n",
    "        print(f\"Splitting {i} ({hp.loc[i, 'sv']} students) into {best_nc} clusters\")\n",
    "        \n",
    "        # Add clustering labels to X\n",
    "        X[\"cluster\"] = best_y\n",
    "\n",
    "        # Update original data with new cluster labels\n",
    "        for s in range(best_nc):\n",
    "            s_i = X.loc[X[\"cluster\"] == s].index.tolist()\n",
    "            data.loc[(data[\"Mã HP\"] == i) & (data[\"Mã SV\"].isin(s_i)), \"Mã HP\"] = f\"{i}_{s}\"\n"
   ]
  }
 ],
 "metadata": {
  "kernelspec": {
   "display_name": "Python 3",
   "language": "python",
   "name": "python3"
  },
  "language_info": {
   "codemirror_mode": {
    "name": "ipython",
    "version": 3
   },
   "file_extension": ".py",
   "mimetype": "text/x-python",
   "name": "python",
   "nbconvert_exporter": "python",
   "pygments_lexer": "ipython3",
   "version": "3.12.7"
  }
 },
 "nbformat": 4,
 "nbformat_minor": 2
}
