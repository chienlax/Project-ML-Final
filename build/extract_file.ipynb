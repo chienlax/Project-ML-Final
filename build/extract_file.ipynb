{
 "cells": [
  {
   "cell_type": "code",
   "execution_count": 7,
   "metadata": {},
   "outputs": [],
   "source": [
    "import os\n",
    "import sys\n",
    "import json\n",
    "import csv"
   ]
  },
  {
   "cell_type": "code",
   "execution_count": null,
   "metadata": {},
   "outputs": [
    {
     "data": {
      "text/plain": [
       "'..//input//output'"
      ]
     },
     "execution_count": 8,
     "metadata": {},
     "output_type": "execute_result"
    }
   ],
   "source": [
    "file_paths = [\n",
    "    '..//input//Toronto//car-f-92.stu',\n",
    "    '..//input//Toronto//car-s-91.stu',\n",
    "    '..//input//Toronto//ear-f-83.stu',\n",
    "    '..//input//Toronto//hec-s-92.stu',\n",
    "    '..//input//Toronto//kfu-s-93.stu', # 5\n",
    "    '..//input//Toronto//lse-f-91.stu', # 6\n",
    "    '..//input//Toronto//pur-s-93.stu', # 7\n",
    "    '..//input//Toronto//rye-s-93.stu', # 8\n",
    "    '..//input//Toronto//sta-f-83.stu', # 9\n",
    "    '..//input//Toronto//tre-s-92.stu', # 10\n",
    "    '..//input//Toronto//uta-s-92.stu', # 11\n",
    "    '..//input//Toronto//ute-s-92.stu', # 12\n",
    "    '..//input//Toronto//yor-f-83.stu' # 13\n",
    "]\n",
    "\n",
    "output_directory = '..//input//output'\n",
    "os.makedirs(output_directory, exist_ok=True)\n",
    "\n",
    "# Function to read .stu file and convert it to a list of rows for the CSV\n",
    "def process_stu_file(file_path):\n",
    "    rows = []\n",
    "    with open(file_path, 'r', encoding='utf-8') as file:\n",
    "        student_id = 1\n",
    "        for line in file:\n",
    "            # Split the line into course codes\n",
    "            course_codes = line.strip().split()\n",
    "            for code in course_codes:\n",
    "                rows.append([student_id, code])\n",
    "            student_id += 1\n",
    "    return rows\n",
    "\n",
    "# Function to write rows to a CSV file\n",
    "def write_csv(rows, file_index):\n",
    "    output_file_path = os.path.join(output_directory, f'2024_{file_index}_HN.csv')\n",
    "    with open(output_file_path, 'w', newline='', encoding='utf-8') as csvfile:\n",
    "        csv_writer = csv.writer(csvfile)\n",
    "        csv_writer.writerow([\"Ma SV\", \"Ma HP\"])\n",
    "        csv_writer.writerows(rows)\n",
    "\n",
    "def process_stu_file_with_prefix(file_path):\n",
    "    rows = []\n",
    "    with open(file_path, 'r', encoding='utf-8') as file:\n",
    "        student_id = 1\n",
    "        for line in file:\n",
    "            # Split the line into course codes\n",
    "            course_codes = line.strip().split()\n",
    "            for code in course_codes:\n",
    "                rows.append([student_id, f\"KH{code}\"])\n",
    "            student_id += 1\n",
    "    return rows\n",
    "\n",
    "# Process the provided .stu files with the prefix added\n",
    "file_index = 1\n",
    "for file_index, file_path in enumerate(file_paths, start=1):\n",
    "    rows = process_stu_file_with_prefix(file_path)\n",
    "    write_csv(rows, file_index)\n",
    "    file_index += 1\n",
    "    \n",
    "\n",
    "# Return the output directory where the CSV files are saved\n",
    "output_directory\n"
   ]
  },
  {
   "cell_type": "code",
   "execution_count": 9,
   "metadata": {},
   "outputs": [],
   "source": [
    "import shutil\n",
    "\n",
    "# Function to move files to their respective folders\n",
    "def move_files_to_folders(output_directory, file_count):\n",
    "    for i in range(1, file_count + 1):\n",
    "        # Create the target directory if it doesn't exist\n",
    "        target_directory = os.path.join('..//input', f'2024_{i}')\n",
    "        os.makedirs(target_directory, exist_ok=True)\n",
    "        \n",
    "        # Define the source file path\n",
    "        source_file = os.path.join(output_directory, f'2024_{i}_HN.csv')\n",
    "        \n",
    "        # Define the destination file path\n",
    "        destination_file = os.path.join(target_directory, f'2024_{i}_HN.csv')\n",
    "        \n",
    "        # Move the file\n",
    "        shutil.move(source_file, destination_file)\n",
    "\n",
    "# Move the files\n",
    "move_files_to_folders(output_directory, len(file_paths))"
   ]
  }
 ],
 "metadata": {
  "kernelspec": {
   "display_name": "Python 3",
   "language": "python",
   "name": "python3"
  },
  "language_info": {
   "codemirror_mode": {
    "name": "ipython",
    "version": 3
   },
   "file_extension": ".py",
   "mimetype": "text/x-python",
   "name": "python",
   "nbconvert_exporter": "python",
   "pygments_lexer": "ipython3",
   "version": "3.12.6"
  }
 },
 "nbformat": 4,
 "nbformat_minor": 2
}
